{
 "cells": [
  {
   "cell_type": "markdown",
   "metadata": {},
   "source": [
    "# # 웹스크랩"
   ]
  },
  {
   "cell_type": "markdown",
   "metadata": {},
   "source": [
    "## - 소스 가져오기"
   ]
  },
  {
   "cell_type": "code",
   "execution_count": 1,
   "metadata": {
    "collapsed": true
   },
   "outputs": [],
   "source": [
    "import requests"
   ]
  },
  {
   "cell_type": "code",
   "execution_count": 2,
   "metadata": {
    "collapsed": true
   },
   "outputs": [],
   "source": [
    "res = requests.get('http://www.coupang.com/np/rocketdelivery?page=1')"
   ]
  },
  {
   "cell_type": "markdown",
   "metadata": {},
   "source": [
    "## - 파싱하기"
   ]
  },
  {
   "cell_type": "code",
   "execution_count": 3,
   "metadata": {
    "collapsed": true
   },
   "outputs": [],
   "source": [
    "from bs4 import BeautifulSoup"
   ]
  },
  {
   "cell_type": "code",
   "execution_count": 4,
   "metadata": {
    "collapsed": true
   },
   "outputs": [],
   "source": [
    "# html.parser 및 lxml 2가지 사용 가능\n",
    "soup = BeautifulSoup(res.text, 'html.parser')"
   ]
  },
  {
   "cell_type": "code",
   "execution_count": 5,
   "metadata": {
    "collapsed": true
   },
   "outputs": [],
   "source": [
    "# crom browser의 기능 활용\n",
    "ul_tag = soup.select_one('#productList')"
   ]
  },
  {
   "cell_type": "code",
   "execution_count": 6,
   "metadata": {
    "scrolled": true
   },
   "outputs": [
    {
     "data": {
      "text/plain": [
       "60"
      ]
     },
     "execution_count": 6,
     "metadata": {},
     "output_type": "execute_result"
    }
   ],
   "source": [
    "li_list = ul_tag.find_all('li')\n",
    "len(li_list)"
   ]
  },
  {
   "cell_type": "code",
   "execution_count": 7,
   "metadata": {},
   "outputs": [
    {
     "data": {
      "text/plain": [
       "[['오리온초코파이 정 딸기 앤 요거트, 444g', '4800', '117'],\n",
       " ['탐사수, 2L, 12개', '6300', '11431'],\n",
       " ['렌지셰프 한입치즈돈까스, 1kg', '12800', '21'],\n",
       " ['베베앙 아기물티슈 캡형, 100매, 10팩', '9900', '24950'],\n",
       " ['농심 봉지라면 4종 기획 세트, 20개입', '14900', '9088']]"
      ]
     },
     "execution_count": 7,
     "metadata": {},
     "output_type": "execute_result"
    }
   ],
   "source": [
    "result_list = []\n",
    "\n",
    "for li_tag in li_list:\n",
    "    result_list.append([li_tag.select_one('a > dl > dd > div.name').text.strip(),\n",
    "                        li_tag.select_one('a > dl > dd > div.price-area > div.price-wrap > div.price > em > strong').text.strip().replace(',', ''),\n",
    "                        li_tag.select_one('a > dl > dd > div.other-info > div.rating-star > span.rating-total-count').text.strip()[1:-1] ])\n",
    "\n",
    "result_list[:5]"
   ]
  },
  {
   "cell_type": "code",
   "execution_count": 8,
   "metadata": {
    "collapsed": true
   },
   "outputs": [],
   "source": [
    "import pandas as pd"
   ]
  },
  {
   "cell_type": "code",
   "execution_count": 9,
   "metadata": {
    "scrolled": true
   },
   "outputs": [
    {
     "data": {
      "text/html": [
       "<div>\n",
       "<style scoped>\n",
       "    .dataframe tbody tr th:only-of-type {\n",
       "        vertical-align: middle;\n",
       "    }\n",
       "\n",
       "    .dataframe tbody tr th {\n",
       "        vertical-align: top;\n",
       "    }\n",
       "\n",
       "    .dataframe thead th {\n",
       "        text-align: right;\n",
       "    }\n",
       "</style>\n",
       "<table border=\"1\" class=\"dataframe\">\n",
       "  <thead>\n",
       "    <tr style=\"text-align: right;\">\n",
       "      <th></th>\n",
       "      <th>상품명</th>\n",
       "      <th>가격</th>\n",
       "      <th>추천도</th>\n",
       "    </tr>\n",
       "  </thead>\n",
       "  <tbody>\n",
       "    <tr>\n",
       "      <th>0</th>\n",
       "      <td>오리온초코파이 정 딸기 앤 요거트, 444g</td>\n",
       "      <td>4800</td>\n",
       "      <td>117</td>\n",
       "    </tr>\n",
       "    <tr>\n",
       "      <th>1</th>\n",
       "      <td>탐사수, 2L, 12개</td>\n",
       "      <td>6300</td>\n",
       "      <td>11431</td>\n",
       "    </tr>\n",
       "    <tr>\n",
       "      <th>2</th>\n",
       "      <td>렌지셰프 한입치즈돈까스, 1kg</td>\n",
       "      <td>12800</td>\n",
       "      <td>21</td>\n",
       "    </tr>\n",
       "    <tr>\n",
       "      <th>3</th>\n",
       "      <td>베베앙 아기물티슈 캡형, 100매, 10팩</td>\n",
       "      <td>9900</td>\n",
       "      <td>24950</td>\n",
       "    </tr>\n",
       "    <tr>\n",
       "      <th>4</th>\n",
       "      <td>농심 봉지라면 4종 기획 세트, 20개입</td>\n",
       "      <td>14900</td>\n",
       "      <td>9088</td>\n",
       "    </tr>\n",
       "  </tbody>\n",
       "</table>\n",
       "</div>"
      ],
      "text/plain": [
       "                        상품명     가격    추천도\n",
       "0  오리온초코파이 정 딸기 앤 요거트, 444g   4800    117\n",
       "1              탐사수, 2L, 12개   6300  11431\n",
       "2         렌지셰프 한입치즈돈까스, 1kg  12800     21\n",
       "3   베베앙 아기물티슈 캡형, 100매, 10팩   9900  24950\n",
       "4    농심 봉지라면 4종 기획 세트, 20개입  14900   9088"
      ]
     },
     "execution_count": 9,
     "metadata": {},
     "output_type": "execute_result"
    }
   ],
   "source": [
    "df = pd.DataFrame(result_list, columns=['상품명', '가격', '추천도'])\n",
    "df.head()"
   ]
  },
  {
   "cell_type": "code",
   "execution_count": 10,
   "metadata": {
    "collapsed": true
   },
   "outputs": [],
   "source": [
    "df.to_csv('coupang_rocket.csv', index=False)"
   ]
  },
  {
   "cell_type": "code",
   "execution_count": null,
   "metadata": {
    "collapsed": true
   },
   "outputs": [],
   "source": []
  },
  {
   "cell_type": "markdown",
   "metadata": {},
   "source": [
    "# # Open API 사용"
   ]
  },
  {
   "cell_type": "markdown",
   "metadata": {},
   "source": [
    "## - 헤더정보 설정"
   ]
  },
  {
   "cell_type": "code",
   "execution_count": 2,
   "metadata": {
    "collapsed": true
   },
   "outputs": [],
   "source": [
    "header = {\n",
    "    'X-Naver-Client-Id': 'Kt9JEg3vtZzC36UOTcyX',\n",
    "    'X-Naver-Client-Secret': 'HrAlWytIVi'\n",
    "}"
   ]
  },
  {
   "cell_type": "markdown",
   "metadata": {},
   "source": [
    "## - 파라메터 : 검색어"
   ]
  },
  {
   "cell_type": "code",
   "execution_count": 4,
   "metadata": {
    "collapsed": true
   },
   "outputs": [],
   "source": [
    "data = {\n",
    "    'query': '북한 여행',\n",
    "    'display': 100\n",
    "}"
   ]
  },
  {
   "cell_type": "markdown",
   "metadata": {},
   "source": [
    "## - 호출"
   ]
  },
  {
   "cell_type": "code",
   "execution_count": 6,
   "metadata": {
    "collapsed": true
   },
   "outputs": [],
   "source": [
    "import requests"
   ]
  },
  {
   "cell_type": "code",
   "execution_count": 7,
   "metadata": {
    "collapsed": true
   },
   "outputs": [],
   "source": [
    "res = requests.get('https://openapi.naver.com/v1/search/blog.json',\n",
    "                   headers=header, params=data)"
   ]
  },
  {
   "cell_type": "markdown",
   "metadata": {},
   "source": [
    "## - 결과 데이터 파싱"
   ]
  },
  {
   "cell_type": "code",
   "execution_count": 13,
   "metadata": {
    "collapsed": true
   },
   "outputs": [],
   "source": [
    "import pandas as pd"
   ]
  },
  {
   "cell_type": "code",
   "execution_count": 15,
   "metadata": {
    "collapsed": true
   },
   "outputs": [],
   "source": [
    "result = res.json()"
   ]
  },
  {
   "cell_type": "code",
   "execution_count": 17,
   "metadata": {},
   "outputs": [
    {
     "data": {
      "text/html": [
       "<div>\n",
       "<style scoped>\n",
       "    .dataframe tbody tr th:only-of-type {\n",
       "        vertical-align: middle;\n",
       "    }\n",
       "\n",
       "    .dataframe tbody tr th {\n",
       "        vertical-align: top;\n",
       "    }\n",
       "\n",
       "    .dataframe thead th {\n",
       "        text-align: right;\n",
       "    }\n",
       "</style>\n",
       "<table border=\"1\" class=\"dataframe\">\n",
       "  <thead>\n",
       "    <tr style=\"text-align: right;\">\n",
       "      <th></th>\n",
       "      <th>날짜</th>\n",
       "      <th>제목</th>\n",
       "      <th>설명</th>\n",
       "      <th>블로거</th>\n",
       "    </tr>\n",
       "  </thead>\n",
       "  <tbody>\n",
       "    <tr>\n",
       "      <th>0</th>\n",
       "      <td>20171224</td>\n",
       "      <td>미국인의 &lt;b&gt;북한여행&lt;/b&gt;기(희귀 사진)</td>\n",
       "      <td>안녕하세요 오늘은 미국인의 &lt;b&gt;북한 여행&lt;/b&gt;기라는 제목으로!북한의 모습을 한번...</td>\n",
       "      <td>김군의 여행스케치</td>\n",
       "    </tr>\n",
       "    <tr>\n",
       "      <th>1</th>\n",
       "      <td>20170810</td>\n",
       "      <td>미국 서점에서 본 &lt;b&gt;북한 여행&lt;/b&gt;안내책</td>\n",
       "      <td>한국책들 사이에 있는 &lt;b&gt;북한 여행&lt;/b&gt;책을 뽑아 들어봅니다.. 이 서점에는 딱...</td>\n",
       "      <td>예술미소</td>\n",
       "    </tr>\n",
       "    <tr>\n",
       "      <th>2</th>\n",
       "      <td>20170731</td>\n",
       "      <td>미국, 8월 말부터 자국민 &lt;b&gt;북한여행&lt;/b&gt; 전면금지 선언</td>\n",
       "      <td>미국 정부는 8월부터 &lt;b&gt;북한 여행&lt;/b&gt; 전면 금지를 선언했는데요. 그 내막을 ...</td>\n",
       "      <td>통일부 공식 블로그, '통일 미래의 꿈'</td>\n",
       "    </tr>\n",
       "    <tr>\n",
       "      <th>3</th>\n",
       "      <td>20171205</td>\n",
       "      <td>&amp;quot;&lt;b&gt;북한여행&lt;/b&gt; 자유화로 평화통일 앞당기자!!&amp;quot; : 435...</td>\n",
       "      <td>남한이 북한보다 우월한 체제라면 &lt;b&gt;북한여행&lt;/b&gt; 자유화 당연하지 않은가?? 물...</td>\n",
       "      <td>sbrhob7979님의블로그</td>\n",
       "    </tr>\n",
       "    <tr>\n",
       "      <th>4</th>\n",
       "      <td>20171224</td>\n",
       "      <td>외국인과 신은미씨의 &lt;b&gt;북한 여행&lt;/b&gt;기 비교</td>\n",
       "      <td>외국인과 신은미씨의 &lt;b&gt;북한 여행&lt;/b&gt;기 비교 그녀만 좋았다는 &lt;b&gt;북한여행&lt;/...</td>\n",
       "      <td>Dean's Study</td>\n",
       "    </tr>\n",
       "  </tbody>\n",
       "</table>\n",
       "</div>"
      ],
      "text/plain": [
       "         날짜                                                 제목  \\\n",
       "0  20171224                           미국인의 <b>북한여행</b>기(희귀 사진)   \n",
       "1  20170810                          미국 서점에서 본 <b>북한 여행</b>안내책   \n",
       "2  20170731                 미국, 8월 말부터 자국민 <b>북한여행</b> 전면금지 선언   \n",
       "3  20171205  &quot;<b>북한여행</b> 자유화로 평화통일 앞당기자!!&quot; : 435...   \n",
       "4  20171224                        외국인과 신은미씨의 <b>북한 여행</b>기 비교   \n",
       "\n",
       "                                                  설명                     블로거  \n",
       "0  안녕하세요 오늘은 미국인의 <b>북한 여행</b>기라는 제목으로!북한의 모습을 한번...               김군의 여행스케치  \n",
       "1  한국책들 사이에 있는 <b>북한 여행</b>책을 뽑아 들어봅니다.. 이 서점에는 딱...                    예술미소  \n",
       "2  미국 정부는 8월부터 <b>북한 여행</b> 전면 금지를 선언했는데요. 그 내막을 ...  통일부 공식 블로그, '통일 미래의 꿈'  \n",
       "3  남한이 북한보다 우월한 체제라면 <b>북한여행</b> 자유화 당연하지 않은가?? 물...         sbrhob7979님의블로그  \n",
       "4  외국인과 신은미씨의 <b>북한 여행</b>기 비교 그녀만 좋았다는 <b>북한여행</...            Dean's Study  "
      ]
     },
     "execution_count": 17,
     "metadata": {},
     "output_type": "execute_result"
    }
   ],
   "source": [
    "# 방법1. 리스트 만들어서 무식하게 처리\n",
    "to_csv_list = []\n",
    "\n",
    "for item in result['items']:\n",
    "    to_csv_list.append([\n",
    "        item['postdate'], item['title'],\n",
    "        item['description'], item['bloggername']\n",
    "    ])\n",
    "\n",
    "\n",
    "df = pd.DataFrame(to_csv_list, columns=['날짜', '제목', '설명', '블로거'])\n",
    "df.head()"
   ]
  },
  {
   "cell_type": "code",
   "execution_count": 18,
   "metadata": {},
   "outputs": [
    {
     "data": {
      "text/html": [
       "<div>\n",
       "<style scoped>\n",
       "    .dataframe tbody tr th:only-of-type {\n",
       "        vertical-align: middle;\n",
       "    }\n",
       "\n",
       "    .dataframe tbody tr th {\n",
       "        vertical-align: top;\n",
       "    }\n",
       "\n",
       "    .dataframe thead th {\n",
       "        text-align: right;\n",
       "    }\n",
       "</style>\n",
       "<table border=\"1\" class=\"dataframe\">\n",
       "  <thead>\n",
       "    <tr style=\"text-align: right;\">\n",
       "      <th></th>\n",
       "      <th>bloggerlink</th>\n",
       "      <th>bloggername</th>\n",
       "      <th>description</th>\n",
       "      <th>link</th>\n",
       "      <th>postdate</th>\n",
       "      <th>title</th>\n",
       "    </tr>\n",
       "  </thead>\n",
       "  <tbody>\n",
       "    <tr>\n",
       "      <th>0</th>\n",
       "      <td>http://blog.naver.com/8910a</td>\n",
       "      <td>김군의 여행스케치</td>\n",
       "      <td>안녕하세요 오늘은 미국인의 &lt;b&gt;북한 여행&lt;/b&gt;기라는 제목으로!북한의 모습을 한번...</td>\n",
       "      <td>http://blog.naver.com/8910a?Redirect=Log&amp;amp;l...</td>\n",
       "      <td>20171224</td>\n",
       "      <td>미국인의 &lt;b&gt;북한여행&lt;/b&gt;기(희귀 사진)</td>\n",
       "    </tr>\n",
       "    <tr>\n",
       "      <th>1</th>\n",
       "      <td>http://blog.naver.com/ilchul2</td>\n",
       "      <td>예술미소</td>\n",
       "      <td>한국책들 사이에 있는 &lt;b&gt;북한 여행&lt;/b&gt;책을 뽑아 들어봅니다.. 이 서점에는 딱...</td>\n",
       "      <td>http://blog.naver.com/ilchul2?Redirect=Log&amp;amp...</td>\n",
       "      <td>20170810</td>\n",
       "      <td>미국 서점에서 본 &lt;b&gt;북한 여행&lt;/b&gt;안내책</td>\n",
       "    </tr>\n",
       "    <tr>\n",
       "      <th>2</th>\n",
       "      <td>http://blog.naver.com/gounikorea</td>\n",
       "      <td>통일부 공식 블로그, '통일 미래의 꿈'</td>\n",
       "      <td>미국 정부는 8월부터 &lt;b&gt;북한 여행&lt;/b&gt; 전면 금지를 선언했는데요. 그 내막을 ...</td>\n",
       "      <td>http://blog.naver.com/gounikorea?Redirect=Log&amp;...</td>\n",
       "      <td>20170731</td>\n",
       "      <td>미국, 8월 말부터 자국민 &lt;b&gt;북한여행&lt;/b&gt; 전면금지 선언</td>\n",
       "    </tr>\n",
       "    <tr>\n",
       "      <th>3</th>\n",
       "      <td>http://blog.naver.com/sbrhob7979</td>\n",
       "      <td>sbrhob7979님의블로그</td>\n",
       "      <td>남한이 북한보다 우월한 체제라면 &lt;b&gt;북한여행&lt;/b&gt; 자유화 당연하지 않은가?? 물...</td>\n",
       "      <td>http://blog.naver.com/sbrhob7979?Redirect=Log&amp;...</td>\n",
       "      <td>20171205</td>\n",
       "      <td>&amp;quot;&lt;b&gt;북한여행&lt;/b&gt; 자유화로 평화통일 앞당기자!!&amp;quot; : 435...</td>\n",
       "    </tr>\n",
       "    <tr>\n",
       "      <th>4</th>\n",
       "      <td>http://blog.naver.com/dean_cho</td>\n",
       "      <td>Dean's Study</td>\n",
       "      <td>외국인과 신은미씨의 &lt;b&gt;북한 여행&lt;/b&gt;기 비교 그녀만 좋았다는 &lt;b&gt;북한여행&lt;/...</td>\n",
       "      <td>http://blog.naver.com/dean_cho?Redirect=Log&amp;am...</td>\n",
       "      <td>20171224</td>\n",
       "      <td>외국인과 신은미씨의 &lt;b&gt;북한 여행&lt;/b&gt;기 비교</td>\n",
       "    </tr>\n",
       "  </tbody>\n",
       "</table>\n",
       "</div>"
      ],
      "text/plain": [
       "                        bloggerlink             bloggername  \\\n",
       "0       http://blog.naver.com/8910a               김군의 여행스케치   \n",
       "1     http://blog.naver.com/ilchul2                    예술미소   \n",
       "2  http://blog.naver.com/gounikorea  통일부 공식 블로그, '통일 미래의 꿈'   \n",
       "3  http://blog.naver.com/sbrhob7979         sbrhob7979님의블로그   \n",
       "4    http://blog.naver.com/dean_cho            Dean's Study   \n",
       "\n",
       "                                         description  \\\n",
       "0  안녕하세요 오늘은 미국인의 <b>북한 여행</b>기라는 제목으로!북한의 모습을 한번...   \n",
       "1  한국책들 사이에 있는 <b>북한 여행</b>책을 뽑아 들어봅니다.. 이 서점에는 딱...   \n",
       "2  미국 정부는 8월부터 <b>북한 여행</b> 전면 금지를 선언했는데요. 그 내막을 ...   \n",
       "3  남한이 북한보다 우월한 체제라면 <b>북한여행</b> 자유화 당연하지 않은가?? 물...   \n",
       "4  외국인과 신은미씨의 <b>북한 여행</b>기 비교 그녀만 좋았다는 <b>북한여행</...   \n",
       "\n",
       "                                                link  postdate  \\\n",
       "0  http://blog.naver.com/8910a?Redirect=Log&amp;l...  20171224   \n",
       "1  http://blog.naver.com/ilchul2?Redirect=Log&amp...  20170810   \n",
       "2  http://blog.naver.com/gounikorea?Redirect=Log&...  20170731   \n",
       "3  http://blog.naver.com/sbrhob7979?Redirect=Log&...  20171205   \n",
       "4  http://blog.naver.com/dean_cho?Redirect=Log&am...  20171224   \n",
       "\n",
       "                                               title  \n",
       "0                           미국인의 <b>북한여행</b>기(희귀 사진)  \n",
       "1                          미국 서점에서 본 <b>북한 여행</b>안내책  \n",
       "2                 미국, 8월 말부터 자국민 <b>북한여행</b> 전면금지 선언  \n",
       "3  &quot;<b>북한여행</b> 자유화로 평화통일 앞당기자!!&quot; : 435...  \n",
       "4                        외국인과 신은미씨의 <b>북한 여행</b>기 비교  "
      ]
     },
     "execution_count": 18,
     "metadata": {},
     "output_type": "execute_result"
    }
   ],
   "source": [
    "# JSON의 딕셔너리의 리스트는 바로 DataFrame으로 처리\n",
    "df2 = pd.DataFrame(result['items'])\n",
    "df2.head()"
   ]
  },
  {
   "cell_type": "code",
   "execution_count": null,
   "metadata": {
    "collapsed": true
   },
   "outputs": [],
   "source": []
  }
 ],
 "metadata": {
  "kernelspec": {
   "display_name": "Python 3",
   "language": "python",
   "name": "python3"
  },
  "language_info": {
   "codemirror_mode": {
    "name": "ipython",
    "version": 3
   },
   "file_extension": ".py",
   "mimetype": "text/x-python",
   "name": "python",
   "nbconvert_exporter": "python",
   "pygments_lexer": "ipython3",
   "version": "3.6.3"
  }
 },
 "nbformat": 4,
 "nbformat_minor": 2
}
