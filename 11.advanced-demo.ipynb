{
 "cells": [
  {
   "cell_type": "markdown",
   "metadata": {},
   "source": [
    "## - 정규표현식"
   ]
  },
  {
   "cell_type": "code",
   "execution_count": 1,
   "metadata": {},
   "outputs": [
    {
     "data": {
      "text/plain": [
       "[('010', '2815', '4242'), ('02', '243', '1422')]"
      ]
     },
     "execution_count": 1,
     "metadata": {},
     "output_type": "execute_result"
    }
   ],
   "source": [
    "import re\n",
    "\n",
    "phoneNumRegex = re.compile(r'(\\d{2,3})-(\\d{3,4})-(\\d{4})')\n",
    "mo = phoneNumRegex.findall('010-2815-4242     02-243-1422')\n",
    "mo"
   ]
  },
  {
   "cell_type": "markdown",
   "metadata": {},
   "source": [
    "## - 클립보드"
   ]
  },
  {
   "cell_type": "code",
   "execution_count": 2,
   "metadata": {},
   "outputs": [],
   "source": [
    "import pyperclip"
   ]
  },
  {
   "cell_type": "code",
   "execution_count": 3,
   "metadata": {},
   "outputs": [],
   "source": [
    "# copy: 함수인자(텍스트) --> 클립보드\n",
    "pyperclip.copy('Hello World !!!')"
   ]
  },
  {
   "cell_type": "code",
   "execution_count": 5,
   "metadata": {},
   "outputs": [
    {
     "data": {
      "text/plain": [
       "'Hello World !!!'"
      ]
     },
     "execution_count": 5,
     "metadata": {},
     "output_type": "execute_result"
    }
   ],
   "source": [
    "# paste: 클립보드 --> 함수리턴값\n",
    "pyperclip.paste()"
   ]
  },
  {
   "cell_type": "markdown",
   "metadata": {},
   "source": [
    "## - ZIP"
   ]
  },
  {
   "cell_type": "code",
   "execution_count": 7,
   "metadata": {},
   "outputs": [],
   "source": [
    "# 압축하기\n",
    "import zipfile\n",
    "\n",
    "dataZip = zipfile.ZipFile('data.zip', 'w')\n",
    "\n",
    "dataZip.write('movie.db', compress_type=zipfile.ZIP_DEFLATED)\n",
    "dataZip.write('order.xlsm', compress_type=zipfile.ZIP_DEFLATED)\n",
    "dataZip.write('train.csv', compress_type=zipfile.ZIP_DEFLATED)\n",
    "\n",
    "dataZip.close()"
   ]
  },
  {
   "cell_type": "code",
   "execution_count": null,
   "metadata": {},
   "outputs": [],
   "source": [
    "# 압축풀기\n",
    "import zipfile\n",
    "\n",
    "dataZip = zipfile.ZipFile('data.zip')\n",
    "dataZip.extractall()\n",
    "dataZip.close()"
   ]
  },
  {
   "cell_type": "markdown",
   "metadata": {},
   "source": [
    "## - 프로세스"
   ]
  },
  {
   "cell_type": "code",
   "execution_count": 8,
   "metadata": {},
   "outputs": [
    {
     "data": {
      "text/plain": [
       "<subprocess.Popen at 0x65f3fd0>"
      ]
     },
     "execution_count": 8,
     "metadata": {},
     "output_type": "execute_result"
    }
   ],
   "source": [
    "import subprocess\n",
    "\n",
    "subprocess.Popen('C:\\\\Windows\\\\System32\\\\calc.exe')"
   ]
  },
  {
   "cell_type": "markdown",
   "metadata": {},
   "source": [
    "## - 메일송부"
   ]
  },
  {
   "cell_type": "code",
   "execution_count": 12,
   "metadata": {},
   "outputs": [
    {
     "data": {
      "text/plain": [
       "smtplib.SMTP"
      ]
     },
     "execution_count": 12,
     "metadata": {},
     "output_type": "execute_result"
    }
   ],
   "source": [
    "# SMTP 서버 접속\n",
    "import smtplib\n",
    "from email.mime.text import MIMEText \n",
    "\n",
    "smtpObj = smtplib.SMTP('smtp.kefico.co.kr', 25)\n",
    "type(smtpObj)"
   ]
  },
  {
   "cell_type": "code",
   "execution_count": 13,
   "metadata": {},
   "outputs": [
    {
     "data": {
      "text/plain": [
       "(250,\n",
       " b'smtp.kefico.co.kr Hello [10.224.2.50]\\nAUTH=LOGIN\\nAUTH LOGIN\\nXXXA\\nSIZE 20971520\\nETRN\\nPIPELINING\\nDSN\\nENHANCEDSTATUSCODES\\n8bitmime\\nBINARYMIME\\nXXXXXXXB\\nVRFY\\nXC')"
      ]
     },
     "execution_count": 13,
     "metadata": {},
     "output_type": "execute_result"
    }
   ],
   "source": [
    "# SMTP 에게 'Hello' 메세지 보내기\n",
    "smtpObj.ehlo()"
   ]
  },
  {
   "cell_type": "code",
   "execution_count": 14,
   "metadata": {},
   "outputs": [
    {
     "data": {
      "text/plain": [
       "{}"
      ]
     },
     "execution_count": 14,
     "metadata": {},
     "output_type": "execute_result"
    }
   ],
   "source": [
    "# 이메일 보내기\n",
    "msg = MIMEText('파이썬을 학습하자\\n매일 1시간씩 하지.'.encode('utf-8'),_charset='UTF-8')\n",
    "msg['Subject']=\"파이썬 스터디\"\n",
    "smtpObj.sendmail('hyunbae.jeong@kefico.co.kr', 'hyunbae.jeong@kefico.co.kr', msg.as_string())"
   ]
  },
  {
   "cell_type": "code",
   "execution_count": 15,
   "metadata": {},
   "outputs": [
    {
     "data": {
      "text/plain": [
       "(221, b'2.0.0 smtp.kefico.co.kr Service closing transmission channel')"
      ]
     },
     "execution_count": 15,
     "metadata": {},
     "output_type": "execute_result"
    }
   ],
   "source": [
    "# SMTP 서버 접속 끊기\n",
    "smtpObj.quit()"
   ]
  },
  {
   "cell_type": "code",
   "execution_count": null,
   "metadata": {},
   "outputs": [],
   "source": []
  }
 ],
 "metadata": {
  "kernelspec": {
   "display_name": "Python 3",
   "language": "python",
   "name": "python3"
  },
  "language_info": {
   "codemirror_mode": {
    "name": "ipython",
    "version": 3
   },
   "file_extension": ".py",
   "mimetype": "text/x-python",
   "name": "python",
   "nbconvert_exporter": "python",
   "pygments_lexer": "ipython3",
   "version": "3.6.4"
  }
 },
 "nbformat": 4,
 "nbformat_minor": 2
}
